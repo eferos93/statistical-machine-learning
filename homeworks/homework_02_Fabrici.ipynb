{
 "cells": [
  {
   "cell_type": "markdown",
   "metadata": {},
   "source": [
    "## Homework 02"
   ]
  },
  {
   "cell_type": "markdown",
   "metadata": {},
   "source": [
    "### Exercise 1\n",
    "One half percent of the population has a coronavirus and a test is being developed. This test gives a false positive $3\\%$ of the time and a false negative $2\\%$ of the time. \n",
    "\n",
    "1. Find the probability that Luca is positive to the test.\n",
    "2. Suppose Luca is positive to the test. What is the probability that he has contracted the disease?"
   ]
  },
  {
   "cell_type": "markdown",
   "metadata": {},
   "source": [
    "#### Solution\n",
    "Let's define the predicates.\n",
    "* $A(x) = $ \"x has the coronavirus\"; $p(A(x)) = 0.005$\n",
    "* $A^c(x) = $ \"x has NOT the coronavirus\"; $p(A^c(x)) = 0.995$\n",
    "* $T(x) = $ \"x resulted positive to the test\";\n",
    "* $T^c(x) = $ \"x resulted negative to the test\";\n",
    "<br><br>\n",
    "Now we know that $p(T(x)|A^c(x)) = 0.03$ and $p(T^c(x)|A(x)) = 0.02$ and thus $p(T(x)|A(x)) = 0.97$ and $p(T^c(x)|A^c(x)) = 0.98$.<br>\n",
    "Due to the law of total probability we can compute the following<br><br>\n",
    "$$\n",
    "p(T(Luca)) = p(T(Luca)|A(Luca))\\;p(A(Luca)) \\: + \\: p(T(Luca)|A^c(Luca))\\;p(A^c(Luca)) = 0.97*0.005 \\; + \\; 0.03*0.995 = 0.0347\n",
    "$$\n",
    "\n",
    "Then $p(A(Luca)|T(Luca))$ can be computed thanks to the *Bayes Theorem* in the following way<br><br>\n",
    "$$\n",
    "p(A(Luca)|T(Luca)) = \\frac{p(T(Luca)|A(Luca))\\;p(A(Luca))}{p(T(Luca))} = \\frac{0.97 * 0.005}{0.0347} =0.1397\n",
    "$$\n",
    "<br><br>\n",
    "This example shows that a classifier effectiveness is not always determined by its accuracy, but also FPR and FNR should be taken into account."
   ]
  },
  {
   "cell_type": "markdown",
   "metadata": {},
   "source": [
    "### Exercise 2\n",
    "\n",
    "Implement the empirical cumulative distribution function $F_X(x)=$ `cdf(dist, x)` taking as inputs a `pyro.distributions` object `dist`, corresponding to the distribution of $X$, and a real value `x`.\n",
    "\n",
    "Suppose that $X\\sim \\mathcal{N}(0,1)$ and plot $F_X(x)$."
   ]
  },
  {
   "cell_type": "code",
   "execution_count": 67,
   "metadata": {},
   "outputs": [
    {
     "data": {
      "text/plain": [
       "[<matplotlib.lines.Line2D at 0x7fc9f89ade10>]"
      ]
     },
     "execution_count": 67,
     "metadata": {},
     "output_type": "execute_result"
    },
    {
     "data": {
      "image/png": "[encoded data removed]",
      "text/plain": [
       "<Figure size 864x432 with 1 Axes>"
      ]
     },
     "metadata": {
      "needs_background": "light"
     },
     "output_type": "display_data"
    }
   ],
   "source": [
    "import pyro\n",
    "import pyro.distributions as distr\n",
    "import numpy as np\n",
    "import matplotlib.pyplot as plt\n",
    "import seaborn as sns\n",
    "    \n",
    "def cdf_axises(dist : pyro.distributions, x):\n",
    "    \"\"\"\n",
    "    Function that computes all the values of F up to F(x)\n",
    "    Returns the axis needed for plotting\n",
    "    \"\"\"\n",
    "    sample = np.sort([pyro.sample('s', dist) for i in range(10000)])\n",
    "    x_axis = list(filter(lambda a: a<x, sample))\n",
    "    temp = np.arange(1,len(sample)+1) / len(sample)\n",
    "    y_axis = [temp[i] for i in range(len(x_axis))]\n",
    "    return (x_axis, y_axis)\n",
    "    \n",
    "def cdf(dist: pyro.distributions, x):\n",
    "    return cdf_axises(dist, x)[1][-1]\n",
    "\n",
    "axises = cdf_axises(distr.Normal(0,1), 3)\n",
    "plt.figure(figsize=(12,6))\n",
    "plt.xlabel(\"x\")\n",
    "plt.ylabel(\"F(x)\")\n",
    "plt.plot(axises[0], axises[1])"
   ]
  },
  {
   "cell_type": "markdown",
   "metadata": {},
   "source": [
    "### Exercise 3\n",
    "\n",
    "Suppose the heights of male students are normally distributed with mean $180$ and unknown variance $\\sigma^2$. Suppose that $\\sigma^2$ is in the range $[22,41]$ with approximately $95\\%$ probability and assign to $\\sigma^2$ an inverse-gamma $IG(38,1110)$ prior distribution .\n",
    "\n",
    "1. Empirically verify that the parameters of the inverse-gamma distribution lead to a prior probability of approximately $95\\%$ that  $\\sigma^2\\in[22,41]$.\n",
    "2. Derive the posterior density of $\\sigma^2$ corresponding to the following data: $183, 173, 181, 170, 176, 180, 187, 176, 171, 190, 184, 173, 176, 179, 181, 186$.\n",
    "Then plot it together with the prior density.\n",
    "3. Compute the posterior density of the standard deviation $\\sigma$."
   ]
  },
  {
   "cell_type": "markdown",
   "metadata": {},
   "source": [
    "1. This means that $F_X(41)-F_X(22) \\approx 0.95$"
   ]
  },
  {
   "cell_type": "code",
   "execution_count": 69,
   "metadata": {},
   "outputs": [
    {
     "name": "stdout",
     "output_type": "stream",
     "text": [
      "0.9453\n"
     ]
    }
   ],
   "source": [
    "import pyro\n",
    "import pyro.distributions as distr\n",
    "import numpy as np\n",
    "import matplotlib.pyplot as plt\n",
    "import seaborn as sns\n",
    "\n",
    "variance = distr.InverseGamma(38,1110)\n",
    "print(cdf(variance, 41)-cdf(variance, 22))"
   ]
  },
  {
   "cell_type": "code",
   "execution_count": null,
   "metadata": {},
   "outputs": [],
   "source": [
    "2. "
   ]
  },
  {
   "cell_type": "markdown",
   "metadata": {},
   "source": [
    "### Exercise 4\n",
    "\n",
    "Prove that the Gamma distribution is the conjugate prior distribution for the Exponential likelihood."
   ]
  }
 ],
 "metadata": {
  "kernelspec": {
   "display_name": "Python 3",
   "language": "python",
   "name": "python3"
  },
  "language_info": {
   "codemirror_mode": {
    "name": "ipython",
    "version": 3
   },
   "file_extension": ".py",
   "mimetype": "text/x-python",
   "name": "python",
   "nbconvert_exporter": "python",
   "pygments_lexer": "ipython3",
   "version": "3.6.9"
  }
 },
 "nbformat": 4,
 "nbformat_minor": 2
}
