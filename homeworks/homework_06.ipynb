{
 "cells": [
  {
   "cell_type": "markdown",
   "metadata": {},
   "source": [
    "## Exercise 1\n",
    "\n",
    "Poisson regression is a Generalized Linear Model, used to model count data. It takes the form\n",
    "\n",
    "$$\\mathbb{E}(\\mu|x)=\\exp(w_1\\,x_1+\\ldots+w_k\\,x_k+b),$$\n",
    "\n",
    "where the observed counts $y$ are drawn from a Poisson distribution on the expected counts: \n",
    "\n",
    "$$y_i \\sim \\text{Poisson}(\\mu_i).$$\n",
    "\n",
    "1. Download and import Load the smoking dataset from: [https://data.princeton.edu/wws509/datasets/#smoking](https://data.princeton.edu/wws509/datasets/#smoking). Then perform a train-test split on the data;\n",
    "2. Fit a Poisson bayesian regression model using the number of deaths as the response variable and the other columns as the explanatory variables;\n",
    "3. Evaluate the regression fit on test data using MAE and MSE error metrics."
   ]
  },
  {
   "cell_type": "code",
   "execution_count": 1,
   "metadata": {},
   "outputs": [
    {
     "name": "stdout",
     "output_type": "stream",
     "text": [
      "<class 'pandas.core.frame.DataFrame'>\n",
      "Int64Index: 36 entries, 1 to 36\n",
      "Data columns (total 4 columns):\n",
      " #   Column  Non-Null Count  Dtype \n",
      "---  ------  --------------  ----- \n",
      " 0   age     36 non-null     object\n",
      " 1   smoke   36 non-null     object\n",
      " 2   pop     36 non-null     int64 \n",
      " 3   dead    36 non-null     int64 \n",
      "dtypes: int64(2), object(2)\n",
      "memory usage: 1.4+ KB\n"
     ]
    }
   ],
   "source": [
    "import pyro\n",
    "import torch\n",
    "import pyro.distributions as dist\n",
    "import pyro.optim as optim\n",
    "from pyro.infer import SVI, Trace_ELBO\n",
    "import pandas as pd\n",
    "import seaborn as sns\n",
    "import matplotlib.pyplot as plt\n",
    "import numpy as np\n",
    "from pyro.infer import Predictive\n",
    "import torch.distributions.constraints as constraints\n",
    "import copy\n",
    "from sklearn.utils import shuffle\n",
    "from sklearn.model_selection import train_test_split\n",
    "from sklearn.preprocessing import MinMaxScaler\n",
    "figsize = (10, 4)\n",
    "pyro.set_rng_seed(42)\n",
    "\n",
    "smoking_data = pd.read_csv(\"https://data.princeton.edu/wws509/datasets/smoking.dat\", sep='\\s+')\n",
    "smoking_data.info()\n",
    "# convert categorical variables into dummies variables\n",
    "smoking_data = pd.get_dummies(smoking_data)"
   ]
  },
  {
   "cell_type": "code",
   "execution_count": 2,
   "metadata": {},
   "outputs": [],
   "source": [
    "# re-scale the populatiopn dependent variable as it is too dominant compared to\n",
    "# the other ones\n",
    "smoking_data[\"pop\"] = MinMaxScaler().fit_transform(pd.DataFrame(smoking_data[\"pop\"]))"
   ]
  },
  {
   "cell_type": "markdown",
   "metadata": {},
   "source": [
    "Now we apply the train-test split with 0.8 threshold"
   ]
  },
  {
   "cell_type": "code",
   "execution_count": 3,
   "metadata": {},
   "outputs": [],
   "source": [
    "num_deaths = torch.tensor(smoking_data[\"dead\"].values, dtype=torch.float)\n",
    "predictors = torch.stack([torch.tensor(smoking_data[column].values, dtype=torch.float)\n",
    "                         for column in smoking_data.columns if column != \"dead\"], 1)\n",
    "\n",
    "\n",
    "X_train, X_test, y_train, y_test = train_test_split(predictors, num_deaths, test_size=0.20, \n",
    "                                                    random_state=54, shuffle=True)"
   ]
  },
  {
   "cell_type": "code",
   "execution_count": 4,
   "metadata": {},
   "outputs": [],
   "source": [
    "def death_model(predictors, deaths):\n",
    "    n_observations, n_predictors=predictors.shape\n",
    "    w=pyro.sample(\"w\", dist.Normal(torch.zeros(n_predictors),\n",
    "                                   torch.ones(n_predictors)))\n",
    "    b=pyro.sample(\"b\", dist.LogNormal(torch.zeros(1), torch.ones(1)))\n",
    "\n",
    "    mu_hat=torch.exp((w*predictors).sum(dim=1) + b)\n",
    "\n",
    "    with pyro.plate(\"dead\", len(deaths)):\n",
    "        pyro.sample(\"obs\", dist.Poisson(mu_hat), obs = deaths)\n",
    "\n",
    "\n",
    "def death_guide(predictors, deaths=None):\n",
    "    n_observations, n_predictors = predictors.shape\n",
    "\n",
    "    w_loc = pyro.param(\"w_loc\", torch.rand(n_predictors),\n",
    "                       constraint=constraints.positive)\n",
    "    w_scale = pyro.param(\"w_scale\", torch.rand(n_predictors), \n",
    "                         constraint=constraints.positive)\n",
    "\n",
    "    w = pyro.sample(\"w\", dist.Gamma(w_loc, w_scale))\n",
    "\n",
    "    b_loc = pyro.param(\"b_loc\", torch.rand(1))\n",
    "    b_scale = pyro.param(\"b_scale\", torch.rand(1), constraint=constraints.positive)\n",
    "\n",
    "    b = pyro.sample(\"b\", dist.LogNormal(b_loc, b_scale))"
   ]
  },
  {
   "cell_type": "code",
   "execution_count": 5,
   "metadata": {},
   "outputs": [
    {
     "name": "stdout",
     "output_type": "stream",
     "text": [
      "Step 0 : loss = 340.44569380368506\n",
      "Step 100 : loss = 614.3885453747852\n",
      "Step 200 : loss = 74407678553.82405\n",
      "Step 300 : loss = 2192.20110148085\n",
      "Step 400 : loss = 2941.399439598833\n",
      "Step 500 : loss = 47593187.10402433\n",
      "Step 600 : loss = 28314.142829375607\n",
      "Step 700 : loss = 2.9697890744236396e+18\n",
      "Step 800 : loss = 275488981085662.47\n",
      "Step 900 : loss = 5921509981.112805\n",
      "Step 1000 : loss = 3558.9095321212494\n",
      "Step 1100 : loss = 131537.857019169\n",
      "Step 1200 : loss = 5967.514833586557\n",
      "Step 1300 : loss = 984449042.5697508\n",
      "Step 1400 : loss = 51144350.05826286\n",
      "Step 1500 : loss = 194488.94051759582\n",
      "Step 1600 : loss = 3473950.5250530923\n",
      "Step 1700 : loss = 102424164084.47119\n",
      "Step 1800 : loss = 1296.5548257146563\n",
      "Step 1900 : loss = 117722.92156015124\n"
     ]
    }
   ],
   "source": [
    "pyro.clear_param_store()\n",
    "\n",
    "death_svi = SVI(model=death_model, guide=death_guide, \n",
    "                optim=optim.ClippedAdam({'lr' : 0.01}), \n",
    "                loss=Trace_ELBO())\n",
    "\n",
    "for step in range(2000):\n",
    "    loss = death_svi.step(X_train, y_train)/len(X_train)\n",
    "    if step % 100 == 0:\n",
    "        print(f\"Step {step} : loss = {loss}\")"
   ]
  },
  {
   "cell_type": "code",
   "execution_count": 6,
   "metadata": {},
   "outputs": [
    {
     "name": "stdout",
     "output_type": "stream",
     "text": [
      "Inferred params: ['w_loc', 'w_scale', 'b_loc', 'b_scale']\n",
      "\n",
      "w_0 = 0.08529035\n",
      "w_1 = 1.50175571\n",
      "w_2 = 1.40396845\n",
      "w_3 = 1.09975612\n",
      "w_4 = 0.70939481\n",
      "w_5 = 1.27312958\n",
      "w_6 = 1.58847809\n",
      "w_7 = 2.25620604\n",
      "w_8 = 1.18238509\n",
      "w_9 = 1.92340398\n",
      "w_10 = 0.09508379\n",
      "w_11 = 0.09032905\n",
      "w_12 = 0.07013020\n",
      "w_13 = 0.06724532\n",
      "b = -12.77771473\n"
     ]
    }
   ],
   "source": [
    "print(\"Inferred params:\", list(pyro.get_param_store().keys()), end=\"\\n\\n\")\n",
    "# w_i and b posterior mean\n",
    "inferred_w = pyro.get_param_store()[\"w_loc\"]\n",
    "inferred_b = pyro.get_param_store()[\"b_loc\"]\n",
    "\n",
    "\n",
    "for i,w in enumerate(inferred_w):\n",
    "    print(f\"w_{i} = {w.item():.8f}\")\n",
    "print(f\"b = {inferred_b.item():.8f}\")"
   ]
  },
  {
   "cell_type": "code",
   "execution_count": 7,
   "metadata": {},
   "outputs": [
    {
     "name": "stdout",
     "output_type": "stream",
     "text": [
      "Sampled parameter = w\n",
      "\n",
      "        mean       std            5%           50%        95%\n",
      "0   0.000030  0.000100  5.249011e-17  2.901223e-07   0.000142\n",
      "1   4.107063  3.559332  3.947709e-01  3.387483e+00  10.122283\n",
      "2   3.018390  2.333618  2.637116e-01  2.453260e+00   7.201630\n",
      "3   7.712648  7.560554  3.822936e-01  5.589813e+00  21.962329\n",
      "4   7.500891  8.890011  1.332020e-01  5.213586e+00  26.505133\n",
      "5   8.095703  7.247715  6.199368e-01  5.695526e+00  23.552204\n",
      "6   6.953088  5.507989  1.078475e+00  5.541534e+00  18.180219\n",
      "7   6.742757  4.093624  2.435832e+00  5.591381e+00  15.887255\n",
      "8   7.577703  6.450333  6.837420e-01  5.780329e+00  20.106481\n",
      "9   6.012335  3.991174  1.140936e+00  5.268776e+00  14.147942\n",
      "10  0.000041  0.000125  2.409273e-15  1.882390e-07   0.000253\n",
      "11  0.000045  0.000137  1.256541e-18  8.671273e-08   0.000282\n",
      "12  0.000012  0.000043  1.226966e-21  2.297895e-09   0.000055\n",
      "13  0.000036  0.000130  1.014594e-24  6.083629e-08   0.000212\n",
      "\n",
      "Sampled parameter = b\n",
      "\n",
      "       mean       std        5%       50%       95%\n",
      "0  0.000003  0.000001  0.000001  0.000003  0.000006\n",
      "\n"
     ]
    }
   ],
   "source": [
    "# print latent params quantile information\n",
    "def summary(samples):\n",
    "    stats = {}\n",
    "    for par_name, values in samples.items():\n",
    "        marginal = pd.DataFrame(values)\n",
    "        percentiles=[.05, 0.5, 0.95]\n",
    "        describe = marginal.describe(percentiles).transpose()\n",
    "        stats[par_name] = describe[[\"mean\", \"std\", \"5%\", \"50%\", \"95%\"]]\n",
    "    return stats\n",
    "\n",
    "# define the posterior predictive\n",
    "predictive = Predictive(model=death_model, guide=death_guide, num_samples=100,\n",
    "                        return_sites=(\"w\",\"b\"))\n",
    "\n",
    "# get posterior samples on test data\n",
    "svi_samples = {k: v.detach().numpy() for k, v in predictive(X_test, y_test).items()}\n",
    "\n",
    "# show summary statistics\n",
    "for key, value in summary(svi_samples).items():\n",
    "    print(f\"Sampled parameter = {key}\\n\\n{value}\\n\")"
   ]
  },
  {
   "cell_type": "code",
   "execution_count": 8,
   "metadata": {},
   "outputs": [
    {
     "name": "stdout",
     "output_type": "stream",
     "text": [
      "MAE = 259.625\n",
      "MSE = 167747.625\n"
     ]
    }
   ],
   "source": [
    "# compute predictions using the inferred paramters\n",
    "y_pred = torch.exp((inferred_w * X_test).sum(dim=1) + inferred_b)\n",
    "print(\"MAE =\", torch.nn.L1Loss()(y_test, y_pred).item())\n",
    "print(\"MSE =\", torch.nn.MSELoss()(y_test, y_pred).item())"
   ]
  },
  {
   "cell_type": "markdown",
   "metadata": {},
   "source": [
    "Now we try with Pyro's autoguide utility and see if we can get better results"
   ]
  },
  {
   "cell_type": "code",
   "execution_count": 9,
   "metadata": {},
   "outputs": [
    {
     "name": "stdout",
     "output_type": "stream",
     "text": [
      "Step 0 : loss = 942.9904812797904\n",
      "Step 100 : loss = 66.99677536743027\n",
      "Step 200 : loss = 111.00122942243304\n",
      "Step 300 : loss = 15.633145809173584\n",
      "Step 400 : loss = 20.819027342966624\n",
      "Step 500 : loss = 13.05750555225781\n",
      "Step 600 : loss = 13.329340875148773\n",
      "Step 700 : loss = 20.64639809301921\n",
      "Step 800 : loss = 38.18989856328283\n",
      "Step 900 : loss = 36.56496188470295\n",
      "Step 1000 : loss = 53.958951907498495\n",
      "Step 1100 : loss = 15.517508089542389\n",
      "Step 1200 : loss = 14.35986950142043\n",
      "Step 1300 : loss = 29.11458254499095\n",
      "Step 1400 : loss = 57.209870031901765\n",
      "Step 1500 : loss = 58.77983671001026\n",
      "Step 1600 : loss = 25.565964498690196\n",
      "Step 1700 : loss = 69.97152726990836\n",
      "Step 1800 : loss = 15.42809426358768\n",
      "Step 1900 : loss = 26.244639249784605\n"
     ]
    }
   ],
   "source": [
    "pyro.clear_param_store()\n",
    "death_guide = pyro.infer.autoguide.AutoMultivariateNormal(death_model)\n",
    "death_svi = SVI(model=death_model, guide=death_guide, \n",
    "                optim=optim.ClippedAdam({'lr' : 0.01}), \n",
    "                loss=Trace_ELBO())\n",
    "\n",
    "for step in range(2000):\n",
    "    loss = death_svi.step(X_train, y_train)/len(X_train)\n",
    "    if step % 100 == 0:\n",
    "        print(f\"Step {step} : loss = {loss}\")"
   ]
  },
  {
   "cell_type": "code",
   "execution_count": 10,
   "metadata": {},
   "outputs": [
    {
     "name": "stdout",
     "output_type": "stream",
     "text": [
      "Inferred params: ['AutoMultivariateNormal.loc', 'AutoMultivariateNormal.scale_tril']\n",
      "\n",
      "w_0 = 2.08941865\n",
      "w_1 = -0.66576290\n",
      "w_2 = -0.97198164\n",
      "w_3 = 0.31020376\n",
      "w_4 = 0.71414906\n",
      "w_5 = 1.12342572\n",
      "w_6 = 1.47310507\n",
      "w_7 = 1.55620039\n",
      "w_8 = 1.41532421\n",
      "w_9 = 1.44062579\n",
      "w_10 = 0.70266092\n",
      "w_11 = 1.27092719\n",
      "w_12 = 1.17221582\n",
      "w_13 = 0.38862407\n",
      "b = 1.06182897\n"
     ]
    }
   ],
   "source": [
    "print(\"Inferred params:\", list(pyro.get_param_store().keys()), end=\"\\n\\n\")\n",
    "# w_i and b posterior mean\n",
    "inferred_w = pyro.get_param_store()[\"AutoMultivariateNormal.loc\"][:-1]\n",
    "inferred_b = pyro.get_param_store()[\"AutoMultivariateNormal.loc\"][-1]\n",
    "#inferred_b = pyro.get_param_store()[\"AutoMultivariateNormal.scale_tril\"]\n",
    "#print(inferred_b.shape)\n",
    "for i,w in enumerate(inferred_w):\n",
    "    print(f\"w_{i} = {w.item():.8f}\")\n",
    "print(f\"b = {inferred_b.item():.8f}\")"
   ]
  },
  {
   "cell_type": "code",
   "execution_count": 11,
   "metadata": {},
   "outputs": [
    {
     "name": "stdout",
     "output_type": "stream",
     "text": [
      "Sampled parameter = w\n",
      "\n",
      "        mean       std        5%       50%       95%\n",
      "0   2.110069  0.155926  1.832691  2.115758  2.329601\n",
      "1  -0.673300  0.091323 -0.830977 -0.674030 -0.524364\n",
      "2  -0.948740  0.284046 -1.456833 -0.934367 -0.467945\n",
      "3   0.314714  0.136072  0.108771  0.299383  0.558504\n",
      "4   0.714192  0.193139  0.414354  0.714178  1.057482\n",
      "5   1.120094  0.256846  0.744823  1.103222  1.597754\n",
      "6   1.471822  0.195263  1.129089  1.459940  1.798666\n",
      "7   1.556424  0.256907  1.168411  1.498783  1.995960\n",
      "8   1.420445  0.197033  1.110182  1.411551  1.713331\n",
      "9   1.421435  0.244658  1.014127  1.410742  1.812998\n",
      "10  0.731125  0.396433  0.068294  0.748195  1.392736\n",
      "11  1.288815  0.419294  0.580862  1.329746  1.922375\n",
      "12  1.175888  0.450533  0.349517  1.227538  1.882553\n",
      "13  0.408145  0.424560 -0.275476  0.465078  1.014390\n",
      "\n",
      "Sampled parameter = b\n",
      "\n",
      "      mean       std        5%       50%       95%\n",
      "0  2.93648  0.590585  2.045619  2.902178  3.846368\n",
      "\n"
     ]
    }
   ],
   "source": [
    "# print latent params quantile information\n",
    "def summary(samples):\n",
    "    stats = {}\n",
    "    for par_name, values in samples.items():\n",
    "        marginal = pd.DataFrame(values)\n",
    "        percentiles=[.05, 0.5, 0.95]\n",
    "        describe = marginal.describe(percentiles).transpose()\n",
    "        stats[par_name] = describe[[\"mean\", \"std\", \"5%\", \"50%\", \"95%\"]]\n",
    "    return stats\n",
    "\n",
    "# define the posterior predictive\n",
    "predictive = Predictive(model=death_model, guide=death_guide, num_samples=100,\n",
    "                        return_sites=(\"w\",\"b\"))\n",
    "\n",
    "# get posterior samples on test data\n",
    "svi_samples = {k: v.detach().numpy() for k, v in predictive(X_test, y_test).items()}\n",
    "\n",
    "# show summary statistics\n",
    "for key, value in summary(svi_samples).items():\n",
    "    print(f\"Sampled parameter = {key}\\n\\n{value}\\n\")"
   ]
  },
  {
   "cell_type": "code",
   "execution_count": 12,
   "metadata": {},
   "outputs": [
    {
     "name": "stdout",
     "output_type": "stream",
     "text": [
      "MAE = 210.6351318359375\n",
      "MSE = 106670.9453125\n"
     ]
    }
   ],
   "source": [
    "# compute predictions using the inferred paramters\n",
    "y_pred = torch.exp((inferred_w * X_test).sum(dim=1) + inferred_b)\n",
    "print(\"MAE =\", torch.nn.L1Loss()(y_test, y_pred).item())\n",
    "print(\"MSE =\", torch.nn.MSELoss()(y_test, y_pred).item())"
   ]
  },
  {
   "cell_type": "markdown",
   "metadata": {},
   "source": [
    "The results are slightly better by using the autoguide"
   ]
  },
  {
   "cell_type": "markdown",
   "metadata": {},
   "source": [
    "## Exercise 2\n",
    "\n",
    "The Iris dataset contains petal and sepal length and width for three different types of Iris flowers: Setosa, Versicolour, and Virginica.\n",
    "\n",
    "1. Import the Iris dataset from `sklearn`:\n",
    "```\n",
    "from sklearn import datasets\n",
    "iris = datasets.load_iris()\n",
    "```\n",
    "and perform a train-test split on the data.\n",
    "\n",
    "2. Fit a multinomial bayesian logistic regression model on the four predictors petal length/width and sepal length/width. \n",
    "\n",
    "3. Evaluate your bayesian classifier on test data: compute the overall test accuracy and class-wise accuracy for the three different flower categories."
   ]
  },
  {
   "cell_type": "code",
   "execution_count": 1,
   "metadata": {},
   "outputs": [],
   "source": [
    "%reset -f\n",
    "import pyro\n",
    "import torch\n",
    "import pyro.distributions as dist\n",
    "import pyro.optim as optim\n",
    "from pyro.infer import SVI, Trace_ELBO\n",
    "import pandas as pd\n",
    "import seaborn as sns\n",
    "import matplotlib.pyplot as plt\n",
    "import numpy as np\n",
    "from pyro.infer import Predictive\n",
    "import torch.distributions.constraints as constraints\n",
    "import copy\n",
    "from sklearn.utils import shuffle\n",
    "from sklearn.model_selection import train_test_split\n",
    "from sklearn.preprocessing import MinMaxScaler, OneHotEncoder\n",
    "figsize = (10, 4)\n",
    "pyro.set_rng_seed(42)\n",
    "from sklearn import datasets\n",
    "\n",
    "\n",
    "iris = datasets.load_iris()\n",
    "iris.data = (iris.data - np.min(iris.data))/(np.max(iris.data)-np.min(iris.data))\n",
    "#iris"
   ]
  },
  {
   "cell_type": "code",
   "execution_count": 2,
   "metadata": {},
   "outputs": [],
   "source": [
    "iris_predictors = torch.tensor(iris.data, dtype=torch.float)\n",
    "iris_species = torch.tensor(iris.target, dtype=torch.float)\n",
    "X_train, X_test, y_train, y_test = train_test_split(iris_predictors, iris_species, test_size=0.20, \n",
    "                                                    random_state=42, shuffle=True)"
   ]
  },
  {
   "cell_type": "code",
   "execution_count": 8,
   "metadata": {},
   "outputs": [
    {
     "name": "stdout",
     "output_type": "stream",
     "text": [
      "Step 0 : loss = 1.0715216889977455\n",
      "Step 1000 : loss = 1.0455803647637367\n",
      "Step 2000 : loss = 1.0452774614095688\n",
      "Step 3000 : loss = 1.0484627356131873\n",
      "Step 4000 : loss = 1.0580982054273287\n",
      "Step 5000 : loss = 1.0209322586655616\n",
      "Step 6000 : loss = 0.9680095300078392\n",
      "Step 7000 : loss = 1.0578199371695518\n",
      "Step 8000 : loss = 0.9616574068864187\n",
      "Step 9000 : loss = 0.9644003167748452\n"
     ]
    },
    {
     "data": {
      "image/png": "[encoded data removed]",
      "text/plain": [
       "<Figure size 864x432 with 1 Axes>"
      ]
     },
     "metadata": {
      "needs_background": "light"
     },
     "output_type": "display_data"
    }
   ],
   "source": [
    "\n",
    "# model and guide functions\n",
    "def log_reg_model(x, y):\n",
    "    n_observations, n_predictors = x.shape\n",
    "    W = [pyro.sample(\"w_\"+str(i), dist.Normal(torch.zeros(n_predictors), torch.ones(n_predictors)))\n",
    "         for i in range(0, 3)]\n",
    "    B = [pyro.sample(\"b_\"+str(i), dist.Normal(0., 1.))\n",
    "         for i in range(0, 3)]\n",
    "    \n",
    "    yhat = torch.stack(\n",
    "        [torch.sigmoid((W[i]*x).sum(dim=1) + B[i])\n",
    "         for i in range(0, 3)],\n",
    "        dim=1\n",
    "    )\n",
    "    with pyro.plate(\"data\", n_observations):\n",
    "        # sampling 0-1 labels from Bernoulli distribution\n",
    "        y = pyro.sample(\"y\", dist.Categorical(yhat), obs=y)\n",
    "               \n",
    "def log_reg_guide(x, y=None):\n",
    "    \n",
    "    n_observations, n_predictors = x.shape\n",
    "    \n",
    "    w_loc_zero = pyro.param(\"w_loc_zero\", torch.rand(n_predictors))\n",
    "    w_scale_zero = pyro.param(\"w_scale_zero\", torch.rand(n_predictors), constraint=constraints.positive)\n",
    "    w_zero = pyro.sample(\"w_0\", dist.Laplace(w_loc_zero, w_scale_zero))\n",
    "    \n",
    "    b_loc_zero = pyro.param(\"b_loc_zero\", torch.rand(1))\n",
    "    b_scale_zero = pyro.param(\"b_scale_zero\", torch.rand(1), constraint=constraints.positive)\n",
    "    b_zero = pyro.sample(\"b_0\", dist.Normal(b_loc_zero, b_scale_zero))\n",
    "    \n",
    "    w_loc_one = pyro.param(\"w_loc_one\", torch.rand(n_predictors))\n",
    "    w_scale_one = pyro.param(\"w_scale_one\", torch.rand(n_predictors), constraint=constraints.positive)\n",
    "    w_one = pyro.sample(\"w_1\", dist.Laplace(w_loc_one, w_scale_one))\n",
    "    \n",
    "    b_loc_one = pyro.param(\"b_loc_one\", torch.rand(1))\n",
    "    b_scale_one = pyro.param(\"b_scale_one\", torch.rand(1), constraint=constraints.positive)\n",
    "    b_one = pyro.sample(\"b_1\", dist.Normal(b_loc_one, b_scale_one))\n",
    "    \n",
    "    w_loc_two = pyro.param(\"w_loc_two\", torch.rand(n_predictors))\n",
    "    w_scale_two = pyro.param(\"w_scale_two\", torch.rand(n_predictors), constraint=constraints.positive)\n",
    "    w_two = pyro.sample(\"w_2\", dist.Laplace(w_loc_two, w_scale_two))\n",
    "    \n",
    "    b_loc_two = pyro.param(\"b_loc_two\", torch.rand(1))\n",
    "    b_scale_two = pyro.param(\"b_scale_two\", torch.rand(1), constraint=constraints.positive)\n",
    "    b_two = pyro.sample(\"b_2\", dist.Normal(b_loc_two, b_scale_two))\n",
    "\n",
    "\n",
    "\n",
    "log_reg_svi = SVI(model=log_reg_model, guide=log_reg_guide, \n",
    "          optim=optim.ClippedAdam({'lr' : 0.0002}), \n",
    "          loss=Trace_ELBO()) \n",
    "\n",
    "losses = []\n",
    "for step in range(10000):\n",
    "    loss = log_reg_svi.step(X_train, y_train)/len(X_train)\n",
    "    losses.append(loss)\n",
    "    if step % 1000 == 0:\n",
    "        print(f\"Step {step} : loss = {loss}\")\n",
    "        \n",
    "fig, ax = plt.subplots(figsize=(12,6))\n",
    "ax.plot(losses)\n",
    "ax.set_title(\"ELBO loss\");"
   ]
  },
  {
   "cell_type": "code",
   "execution_count": 9,
   "metadata": {},
   "outputs": [
    {
     "name": "stdout",
     "output_type": "stream",
     "text": [
      "Step 0 : loss = 0.9765208333730697\n",
      "Step 1000 : loss = 0.966140120724837\n",
      "Step 2000 : loss = 0.9586402614911397\n",
      "Step 3000 : loss = 0.9526994576056799\n",
      "Step 4000 : loss = 0.9478651449084282\n",
      "Step 5000 : loss = 0.943986660738786\n",
      "Step 6000 : loss = 0.9409688303867976\n",
      "Step 7000 : loss = 0.938714991013209\n",
      "Step 8000 : loss = 0.9371061012148857\n",
      "Step 9000 : loss = 0.9360012566049893\n"
     ]
    },
    {
     "data": {
      "image/png": "[encoded data removed]",
      "text/plain": [
       "<Figure size 864x432 with 1 Axes>"
      ]
     },
     "metadata": {
      "needs_background": "light"
     },
     "output_type": "display_data"
    }
   ],
   "source": [
    "auto_guide = pyro.infer.autoguide.AutoDelta(log_reg_model)\n",
    "log_reg_svi = SVI(model=log_reg_model, guide=auto_guide, \n",
    "          optim=optim.ClippedAdam({'lr' : 0.0002}), \n",
    "          loss=Trace_ELBO()) \n",
    "\n",
    "losses = []\n",
    "for step in range(10000):\n",
    "    loss = log_reg_svi.step(X_train, y_train)/len(X_train)\n",
    "    losses.append(loss)\n",
    "    if step % 1000 == 0:\n",
    "        print(f\"Step {step} : loss = {loss}\")\n",
    "        \n",
    "fig, ax = plt.subplots(figsize=(12,6))\n",
    "ax.plot(losses)\n",
    "ax.set_title(\"ELBO loss\");"
   ]
  },
  {
   "cell_type": "markdown",
   "metadata": {},
   "source": [
    "Looks like that the ELBO loss is lower with the autoguide AutoDelta, we will keep the results and valide the model."
   ]
  },
  {
   "cell_type": "code",
   "execution_count": 14,
   "metadata": {},
   "outputs": [
    {
     "name": "stdout",
     "output_type": "stream",
     "text": [
      "Accuracy for class 0 100.00 %\n",
      "Accuracy for class 1 100.00 %\n",
      "Accuracy for class 2 100.00 %\n",
      "Overal test accuracy = 100.00%\n"
     ]
    }
   ],
   "source": [
    "import re\n",
    "params_store = pyro.get_param_store()\n",
    "pattern_w = re.compile('w_loc_*')\n",
    "pattern_b = re.compile('b_loc_*')\n",
    "#get the loc values according to the string patterns defined above\n",
    "W = [params_store[key] for key in params_store.keys() if pattern_w.match(key)]\n",
    "B = [params_store[key] for key in params_store.keys() if pattern_b.match(key)]\n",
    "\n",
    "# this function returns the class that achievied the maximum probability \n",
    "# over the others\n",
    "def predict_class(predictors, param_W, param_B):\n",
    "    result = torch.stack(\n",
    "        [torch.sigmoid((W[i] * predictors).sum(dim=1) + B[i])\n",
    "         for i in range(0, len(W))],\n",
    "        dim=1\n",
    "    )\n",
    "    return torch.argmax(result, dim=1)\n",
    "\n",
    "predictions = predict_class(X_test, W, B)\n",
    "predictions_vs_real = list(zip(predictions , y_test))\n",
    "\n",
    "def class_checker(class_label):\n",
    "    def func(predicted_vs_real):\n",
    "        return predicted_vs_real[0] == predicted_vs_real[1] == class_label\n",
    "    return func\n",
    "\n",
    "\n",
    "count_zero = len(list(filter(class_checker(0), predictions_vs_real)))\n",
    "count_one = len(list(filter(class_checker(1), predictions_vs_real)))\n",
    "count_two = len(list(filter(class_checker(2), predictions_vs_real)))\n",
    "\n",
    "correct_pred_zero = (count_zero / len(y_test[y_test == 0])) * 100\n",
    "correct_pred_one = (count_one / len(y_test[y_test == 1])) * 100\n",
    "correct_pred_two = (count_two / len(y_test[y_test == 2])) * 100\n",
    "\n",
    "correct_pred_final = (predictions == y_test).sum().item()\n",
    "\n",
    "print(\"Accuracy for class 0 {:.2f}\".format(correct_pred_zero),\"%\")\n",
    "print(\"Accuracy for class 1 {:.2f}\".format(correct_pred_one),\"%\")\n",
    "print(\"Accuracy for class 2 {:.2f}\".format(correct_pred_two),\"%\")\n",
    "\n",
    "print(f\"Overal test accuracy = {correct_pred_final/len(X_test)*100:.2f}%\")"
   ]
  }
 ],
 "metadata": {
  "kernelspec": {
   "display_name": "Python (SML virtualenv)",
   "language": "python",
   "name": "statistical-machine-learning"
  },
  "language_info": {
   "codemirror_mode": {
    "name": "ipython",
    "version": 3
   },
   "file_extension": ".py",
   "mimetype": "text/x-python",
   "name": "python",
   "nbconvert_exporter": "python",
   "pygments_lexer": "ipython3",
   "version": "3.6.9"
  }
 },
 "nbformat": 4,
 "nbformat_minor": 4
}
