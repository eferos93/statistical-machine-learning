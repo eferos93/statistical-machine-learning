{
 "cells": [
  {
   "cell_type": "markdown",
   "metadata": {},
   "source": [
    "## Homework 01"
   ]
  },
  {
   "cell_type": "markdown",
   "metadata": {},
   "source": [
    "### Exercise 1\n",
    "\n",
    "Let $Y$ be a random variable taking values in $\\{1,...,N\\}$ and suppose that any value is equally likely, i.e. that $P(Y=j)=\\frac{1}{N}$. \n",
    "\n",
    "Knowing that $\\sum_{j=1}^N j = \\frac{N(N+1)}{2}$, show that $\\mathbb{E}(Y)=\\frac{N+1}{2}$."
   ]
  },
  {
   "cell_type": "markdown",
   "metadata": {},
   "source": [
    "#### Proof\n",
    "By definition of expected value we have\n",
    "$$\n",
    "\\mathbb{E}(Y)=\\sum_{j\\in Y}jP(j)\n",
    "$$\n",
    "and as $P(j) = \\frac{1}{N}, \\forall j \\in Y$ it follows that\n",
    "$$\n",
    "\\sum_{j\\in Y}jP(j) = \\sum_{j\\in Y}j\\frac{1}{N} = \\frac{1}{N}\\sum_{j\\in Y}j\n",
    "$$\n",
    "which, in this case, can be re-written as\n",
    "$$\n",
    "\\frac{1}{N}\\sum_{j=1}^N j = \\frac{1}{N}\\frac{N(N-1)}{2} = \\frac{N-1}{2}\n",
    "$$\n",
    "q.e.d."
   ]
  },
  {
   "cell_type": "markdown",
   "metadata": {},
   "source": [
    "### Exercise 2</font>\n",
    "Prove that $\\mathbb{E}(X)=\\mu$ for $X\\sim\\mathcal{N}(\\mu,\\sigma^2)$."
   ]
  },
  {
   "cell_type": "markdown",
   "metadata": {},
   "source": [
    "### Proof\n",
    "By the definition of expected value of a continuous random variable we obtain\n",
    "$$\n",
    "\\mathbb{E}(X) = \\int_{-\\infty}^{+\\infty}xP(x)\\;dx = \\frac{1}{\\sigma\\sqrt{2\\pi}} \\int_{-\\infty}^{+\\infty}xe^{-\\frac{1}{2\\sigma^2}(x-\\mu)^2}\\;dx\n",
    "$$\n",
    "<br>\n",
    "we now use the substitution method with $y=\\frac{x-\\mu}{\\sqrt{2}\\sigma}$, $x=\\sqrt{2}\\sigma y + \\mu$, $dy = \\frac{dx}{\\sqrt{2}\\sigma}$ and $dx = \\sqrt{2}\\sigma \\; dy$. Therefore\n",
    "<br><br>\n",
    "$$\n",
    "\\frac{1}{\\sigma\\sqrt{2\\pi}}\\int_{-\\infty}^{+\\infty} (\\sqrt{2}\\sigma y + \\mu )e^{-y^2}\\sqrt{2}\\sigma \\; dy = \\frac{1}{\\sqrt{\\pi}}\\int_{-\\infty}^{+\\infty} (\\sqrt{2}\\sigma y+\\mu)e^{-y^2} \\; dy = \\frac{1}{\\sqrt{\\pi}}(\\sqrt{2}\\sigma \\int_{-\\infty}^{+\\infty} ye^{-y^2} \\; dy + \\mu\\int_{-\\infty}^{+\\infty} e^{-y^2} \\; dy)\n",
    "$$\n",
    "<br>\n",
    "For the *Gaussian Integral Theorem* we have $\\int_{-\\infty}^{+\\infty} e^{-y^2} \\; dy = \\sqrt{\\pi}$. Concluding\n",
    "<br><br>\n",
    "$$\n",
    "\\frac{1}{\\sqrt{\\pi}}(\\sqrt{2}\\sigma [-\\frac{1}{2}e^{-y^2}]_{-\\infty}^{+\\infty} + \\mu\\sqrt{\\pi}) = \\frac{\\mu\\sqrt{\\pi}}{\\sqrt{\\pi}} = \\mu\n",
    "$$\n",
    "q.e.d."
   ]
  },
  {
   "cell_type": "markdown",
   "metadata": {},
   "source": [
    "### Exercise 3\n",
    "Let $X$ and $Y$ have discrete joint distribution\n",
    "$$\n",
    "p(x,y) = \n",
    "\\begin{cases}\n",
    "\\frac{1}{30} (x+y) & \\text{for } x = 0,1,2 \\text{ and } y=0,1,2,3\\\\\n",
    "0 & \\text{otherwise}\n",
    "\\end{cases}\n",
    "$$\n",
    "\n",
    "Are $X$ and $Y$ independent?"
   ]
  },
  {
   "cell_type": "markdown",
   "metadata": {},
   "source": [
    "### Solution\n",
    "No. If $X$ and $Y$ were independet the following should hold <br><br>\n",
    "$$p(x,y)=p(x)p(y) \\:\\:\\:\\:\\:\\:\\forall x \\in X \\;\\: and \\;\\: \\forall y \\in Y$$<br>\n",
    " Let's consider $p(X = 0, Y = 0) = \\frac{1}{30}(0+0) = 0$. In order to show that $X$ and $Y$ are independent we need to prove that $p(X=0)*p(Y=0) = 0$.<br>\n",
    "Thanks to the *Sum Rule* we have that the two marginal distributions are the following <br><br>\n",
    "$$\n",
    "p(X=0) = \\sum_{y\\in Y}p(X=0,y) = 0 + 1/30 + 1/15 + 1/10 = \\frac{1}{5}\n",
    "$$\n",
    "$$\n",
    "p(Y = 0) = \\sum_{x\\in X}p(x,Y=0) = 0 + 1/30 + 1/15 = \\frac{1}{10}\n",
    "$$\n",
    "<br>\n",
    "We have that $p(X=0)p(Y=0) = \\frac{1}{50} \\neq p(X=0,Y=0)$ therefore $X$ and $Y$ are *not* independent random variables q.e.d.."
   ]
  },
  {
   "cell_type": "markdown",
   "metadata": {},
   "source": [
    "### Exercise 4\n",
    "\n",
    "Let $X$ and $Y$ be two continuos random variables with joint probability density\n",
    "\n",
    "$$\n",
    "f(x,y) = \n",
    "\\begin{cases}\n",
    "24xy & \\text{for } 0<x<1,0<y<1,x+y<1\\\\\n",
    "0 & \\text{otherwise}\n",
    "\\end{cases}\n",
    "$$\n",
    "\n",
    "Find\n",
    "1. the marginal density of Y;\n",
    "2. the conditional density of $X$ given $Y=1/2$.\n"
   ]
  },
  {
   "cell_type": "markdown",
   "metadata": {},
   "source": [
    "### Solution\n",
    "#### 1.\n",
    "The definition of marginal density states that $p(y) = \\int_{X}p(x,y)dx$. In our case we need to define the interval in which the integral has to be computed. We know that $0<x<1$ but with the condition $x+y<1$, thus $x<1-y$. <br><br>\n",
    "$$\n",
    "p(y) = \\int_{0}^{1-y}24xy\\;dx = 24y\\int_{0}^{1-y}x\\;dx = 24y(\\frac{(1-y)^2}{2}-\\frac{0}{2}) = 12y(1-y)^2\n",
    "$$\n",
    "#### 2.\n",
    "By the *Product Rule* we obtain that the condtional density $p(x|y)=\\frac{p(x,y)}{p(y)}$ thus <br><br>\n",
    "$$\n",
    "p(x|Y=1/2) = \\frac{p(x,Y=1/2)}{p(Y=1/2)} = \\frac{12x}{12\\frac{1}{2}(1-\\frac{1}{2})^2} = 8x\n",
    "$$"
   ]
  },
  {
   "cell_type": "markdown",
   "metadata": {},
   "source": [
    "### Exercise 5\n",
    "\n",
    "Let the joint distribution of $X$ and $Y$ be \n",
    "\n",
    "$$f(X,Y) = \\frac{\\Gamma(\\alpha_1+\\alpha_2+\\alpha_3)}{\\Gamma(\\alpha_1)\\Gamma(\\alpha_2)\\Gamma(\\alpha_3)}x^{\\alpha_1-1}y^{\\alpha_2-1}(1-x-y)^{\\alpha_3-1}.$$ \n",
    "\n",
    "Suppose that $0<x<1\\: \\land \\:0<y<1\\:\\land\\: x+y<1$ and prove that the marginal distribution of $X$ is a $\\text{Beta}(\\alpha_1,\\alpha_2+\\alpha_3)$."
   ]
  },
  {
   "cell_type": "markdown",
   "metadata": {},
   "source": [
    "### Proof\n",
    "For the sake of simplicity, let $c = \\frac{\\Gamma(\\alpha_1+\\alpha_2+\\alpha_3)}{\\Gamma(\\alpha_1)\\Gamma(\\alpha_2)\\Gamma(\\alpha_3)} $\n",
    "$$\n",
    "p(x) = \\int_{0}^{1-x} cx^{\\alpha_1-1}y^{\\alpha_2-1}(1-x-y)^{\\alpha_3-1}\\;dy = cx^{\\alpha_1-1}\\int_{0}^{1-x}y^{\\alpha_2-1}(1-x)^{\\alpha_3-1}(1-\\frac{y}{1-x})^{\\alpha_3-1}\\;dy = cx^{\\alpha_1-1}\\int_{0}^{1-x} (\\frac{y}{1-x})^{\\alpha_2-1}(1-x)^{\\alpha_2-1} (1-x)^{\\alpha_3-1}(1-\\frac{y}{1-x})^{\\alpha_3-1}\\;dy = cx^{\\alpha_1-1}(1-x)^{\\alpha_2+\\alpha_3-2} \\int_{0}^{1-x} (\\frac{y}{1-x})^{\\alpha_2-1} (1-\\frac{y}{1-x})^{\\alpha_3-1}\\;dy\n",
    "$$\n",
    "<br>\n",
    "Now, let $t = \\frac{y}{1-x}$, $y = t(1-x)$, $dy = (1-x)\\;dt$ thus\n",
    "$$\n",
    "cx^{\\alpha_1-1}(1-x)^{\\alpha_2+\\alpha_3-1} \\int_{0}^{1} t^{\\alpha_2-1} (1-t)^{\\alpha_3-1}\\;dt\n",
    "$$\n",
    "Notice that $\\int_{0}^{1} t^{\\alpha_2-1} (1-t)^{\\alpha_3-1}\\;dt$ is a possible representation of the *Beta function*, i.e. it is equal to $B(\\alpha_2, \\alpha_3) = \\frac{\\Gamma(\\alpha_2)\\Gamma(\\alpha_3)}{\\Gamma(\\alpha_2+\\alpha_3)}$.<br>\n",
    "Therefore, by expanding $c$, we obtain <br><br>\n",
    "$$\n",
    "\\frac{\\Gamma(\\alpha_1+\\alpha_2+\\alpha_3)}{\\Gamma(\\alpha_1)\\Gamma(\\alpha_2)\\Gamma(\\alpha_3)} \\frac{\\Gamma(\\alpha_2)\\Gamma(\\alpha_3)}{\\Gamma(\\alpha_2+\\alpha_3)}x^{\\alpha_1-1}(1-x)^{\\alpha_2+\\alpha_3-1} = \\frac{\\Gamma(\\alpha_1+\\alpha_2+\\alpha_3)}{\\Gamma(\\alpha_1)\\Gamma(\\alpha_2+\\alpha_3)}x^{\\alpha_1-1}(1-x)^{\\alpha_2+\\alpha_3-1}\n",
    "$$\n",
    "<br>\n",
    "It is possible to make the following simplification\n",
    "$$\n",
    "\\frac{\\Gamma(\\alpha_1+\\alpha_2+\\alpha_3)}{\\Gamma(\\alpha_1)\\Gamma(\\alpha_2+\\alpha_3)} = \\frac{1}{\\frac{\\Gamma(\\alpha_1)\\Gamma(\\alpha_2+\\alpha_3)}{\\Gamma(\\alpha_1+\\alpha_2+\\alpha_3)}} = \\frac{1}{B(\\alpha_1, \\alpha_2+\\alpha_3)}\n",
    "$$\n",
    "Finally we have\n",
    "$$\n",
    "\\frac{x^{\\alpha_1-1}(1-x)^{\\alpha_2+\\alpha_3-1}}{B(\\alpha_1, \\alpha_2+\\alpha_3)} \\sim Beta(\\alpha_1, \\alpha_2+\\alpha_3)\n",
    "$$\n",
    "q.e.d."
   ]
  }
 ],
 "metadata": {
  "kernelspec": {
   "display_name": "Python 3",
   "language": "python",
   "name": "python3"
  },
  "language_info": {
   "codemirror_mode": {
    "name": "ipython",
    "version": 3
   },
   "file_extension": ".py",
   "mimetype": "text/x-python",
   "name": "python",
   "nbconvert_exporter": "python",
   "pygments_lexer": "ipython3",
   "version": "3.6.9"
  }
 },
 "nbformat": 4,
 "nbformat_minor": 2
}
