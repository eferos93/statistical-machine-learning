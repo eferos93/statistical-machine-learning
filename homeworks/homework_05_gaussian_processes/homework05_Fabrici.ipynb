{
 "cells": [
  {
   "cell_type": "code",
   "execution_count": 3,
   "metadata": {},
   "outputs": [],
   "source": [
    "from sklearn import gaussian_process\n",
    "import os\n",
    "import pandas as pd\n",
    "import numpy as np\n",
    "from matplotlib import pyplot as plt"
   ]
  },
  {
   "cell_type": "code",
   "execution_count": null,
   "metadata": {},
   "outputs": [],
   "source": [
    "covid = pd.read_csv(\"COVID_national_20200421.csv\")"
   ]
  },
  {
   "cell_type": "code",
   "execution_count": 31,
   "metadata": {},
   "outputs": [],
   "source": [
    "def plot_predictions(data_set_values, gauss_process_regressor,\n",
    "                     obs_output, obs_input, include_observed=True,):\n",
    "    pred_y, pred_std = gauss_process_regressor.predict(obs_input, return_std=True)\n",
    "    plt.figure(figsize=(10, 7))\n",
    "    x = obs_input[:, 0]  # from 1 column matrix to a simple array\n",
    "    if include_observed:\n",
    "        plt.plot(x, obs_output, 'ok', alpha=0.1)\n",
    "    l, = plt.plot(x, pred_y)\n",
    "    plt.fill_between(x,\n",
    "                     pred_y + pred_std,\n",
    "                     pred_y - pred_std,\n",
    "                     color=l.get_color(), alpha=0.3)\n",
    "    #if np.allclose(x, data_monthly.t.values):\n",
    "    if np.allclose(x, data_set_values):\n",
    "        plt.axvline(dates_to_idx(pd.to_datetime(\"2003-12-15\")),\n",
    "                    linestyle='--', color='r')\n",
    "    else:\n",
    "        plt.axvline(pd.to_datetime(\"2003-12-15\"), linestyle='--', color='k')"
   ]
  }
 ],
 "metadata": {
  "kernelspec": {
   "display_name": "Python (SML virtualenv)",
   "language": "python",
   "name": "statistical-machine-learning"
  },
  "language_info": {
   "codemirror_mode": {
    "name": "ipython",
    "version": 3
   },
   "file_extension": ".py",
   "mimetype": "text/x-python",
   "name": "python",
   "nbconvert_exporter": "python",
   "pygments_lexer": "ipython3",
   "version": "3.6.9"
  }
 },
 "nbformat": 4,
 "nbformat_minor": 4
}
