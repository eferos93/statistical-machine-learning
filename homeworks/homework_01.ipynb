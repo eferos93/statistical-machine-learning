{
 "cells": [
  {
   "cell_type": "markdown",
   "metadata": {},
   "source": [
    "## Homework 01"
   ]
  },
  {
   "cell_type": "markdown",
   "metadata": {},
   "source": [
    "### Exercise 1\n",
    "\n",
    "Let $Y$ be a random variable taking values in $\\{1,...,N\\}$ and suppose that any value is equally likely, i.e. that $P(Y=j)=\\frac{1}{N}$. \n",
    "\n",
    "Knowing that $\\sum_{j=1}^N j = \\frac{N(N+1)}{2}$, show that $\\mathbb{E}(Y)=\\frac{N+1}{2}$."
   ]
  },
  {
   "cell_type": "markdown",
   "metadata": {},
   "source": [
    "#### Proof\n",
    "By definition of expected value we have\n",
    "$$\n",
    "\\mathbb{E}(Y)=\\sum_{j\\in Y}jP(j)\n",
    "$$\n",
    "and as $P(j) = \\frac{1}{N}, \\forall j \\in Y$ it follows that\n",
    "$$\n",
    "\\sum_{j\\in Y}jP(j) = \\sum_{j\\in Y}j\\frac{1}{N} = \\frac{1}{N}\\sum_{j\\in Y}j\n",
    "$$\n",
    "which, in this case, can be re-written as\n",
    "$$\n",
    "\\frac{1}{N}\\sum_{j=1}^N j = \\frac{1}{N}\\frac{N(N-1)}{2} = \\frac{N-1}{2}\n",
    "$$\n",
    "q.e.d."
   ]
  },
  {
   "cell_type": "markdown",
   "metadata": {},
   "source": [
    "### Exercise 2</font>\n",
    "Prove that $\\mathbb{E}(X)=\\mu$ for $X\\sim\\mathcal{N}(\\mu,\\sigma^2)$."
   ]
  },
  {
   "cell_type": "markdown",
   "metadata": {},
   "source": [
    "###Proof\n",
    "By the definition of the expected value of a continuous random variable we obtain\n",
    "$$\n",
    "\\mathbb{E}(X) = \\int_{-\\infty}^{+\\infty}xP(x)\\;dx = \\frac{1}{\\sigma\\sqrt{2\\pi}} \\int_{-\\infty}^{+\\infty}xe^{-\\frac{1}{2\\sigma^2}(x-\\mu)^2}\\;dx\n",
    "$$\n",
    "we now use the substitution method with $y=\\frac{x-\\mu}{\\sqrt{2}\\sigma}$, $x=\\sqrt{2}\\sigma y + \\mu$, $dy = \\frac{dx}{\\sqrt{2}\\sigma}$ and $dx = \\sqrt{2}\\sigma \\; dy$. Therefore\n",
    "$$\n",
    "\\frac{1}{\\sigma\\sqrt{2\\pi}}\\int_{-\\infty}^{+\\infty} (\\sqrt{2}\\sigma y + \\mu )e^{-y^2}\\sqrt{2}\\sigma \\; dy = \\frac{1}{\\sqrt{\\pi}}\\int_{-\\infty}^{+\\infty} (\\sqrt{2}\\sigma y+\\mu)e^{-y^2} \\; dy = \\frac{1}{\\sqrt{\\pi}}(\\sqrt{2}\\sigma \\int_{-\\infty}^{+\\infty} ye^{-y^2} \\; dy + \\mu\\int_{-\\infty}^{+\\infty} e^{-y^2} \\; dy)\n",
    "$$\n",
    "For the *Gaussian Integral Theorem* we have $\\int_{-\\infty}^{+\\infty} e^{-y^2} \\; dy = \\sqrt{\\pi}$. Concluding\n",
    "$$\n",
    "\\frac{1}{\\sqrt{\\pi}}(\\sqrt{2}\\sigma [-\\frac{1}{2}e^{-y^2}]_{-\\infty}^{+\\infty} + \\mu\\sqrt{\\pi}) = \\frac{\\mu\\sqrt{\\pi}}{\\sqrt{\\pi}} = \\mu\n",
    "$$\n",
    "q.e.d."
   ]
  },
  {
   "cell_type": "markdown",
   "metadata": {},
   "source": [
    "### Exercise 3\n",
    "Let $X$ and $Y$ have discrete joint distribution\n",
    "$$\n",
    "p(x,y) = \n",
    "\\begin{cases}\n",
    "\\frac{1}{30} (x+y) & \\text{for } x = 0,1,2 \\text{ and } y=0,1,2,3\\\\\n",
    "0 & \\text{otherwise}\n",
    "\\end{cases}\n",
    "$$\n",
    "\n",
    "Are $X$ and $Y$ independent?"
   ]
  },
  {
   "cell_type": "markdown",
   "metadata": {},
   "source": [
    "### Solution\n",
    "No. If $X$ and $Y$ were independet the following should hold \n",
    "$$p(x,y)=p(x)p(y) \\:\\:\\:\\:\\:\\:\\forall x \\in X \\;\\: and \\;\\: \\forall y \\in Y$$\n",
    "<!-- Let's consider $p(X = 0, Y = 0) = \\frac{1}{30}(0+0) = 0$. In order to show that $X$ and $Y$ are independent we need to prove that $p(X=0)*p(Y=0) = 0$.<br> -->\n",
    "Thanks to the *Sum Rule* we have that the two marginal distributions are the following\n",
    "$$\n",
    "p(X=0) = \\sum_{y\\in Y}p(X=0,y) = 0 + 1/30 + 1/15 + 1/10 = \\frac{1}{5}\n",
    "$$\n",
    "$$\n",
    "p(Y = 0) = \\sum_{x\\in X}p(x,Y=0) = 0 + 1/30 + 1/15 = \\frac{1}{10}\n",
    "$$\n",
    "We have that $p(X=0)p(Y=0) = \\frac{1}{50} \\neq p(X=0,Y=0)$ therefore $X$ and $Y$ are *not* independet random variables q.e.d.."
   ]
  },
  {
   "cell_type": "markdown",
   "metadata": {},
   "source": [
    "### Exercise 4\n",
    "\n",
    "Let $X$ and $Y$ be two continuos random variables with joint probability density\n",
    "\n",
    "$$\n",
    "f(x,y) = \n",
    "\\begin{cases}\n",
    "24xy & \\text{for } 0<x<1,0<y<1,x+y<1\\\\\n",
    "0 & \\text{otherwise}\n",
    "\\end{cases}\n",
    "$$\n",
    "\n",
    "Find\n",
    "1. the marginal density of Y;\n",
    "2. the conditional density of $X$ given $Y=1/2$.\n"
   ]
  },
  {
   "cell_type": "markdown",
   "metadata": {},
   "source": [
    "### Exercise 5\n",
    "\n",
    "Let the joint distribution of $X$ and $Y$ be \n",
    "\n",
    "$$f(X,Y) = \\frac{\\Gamma(\\alpha_1+\\alpha_2+\\alpha_3)}{\\Gamma(\\alpha_1)\\Gamma(\\alpha_2)\\Gamma(\\alpha_3)}x^{\\alpha_1-1}y^{\\alpha_2-1}(1-x-y)^{\\alpha_3-1}.$$ \n",
    "\n",
    "Prove that the marginal distribution of $X$ is a $\\text{Beta}(\\alpha_1,\\alpha_2+\\alpha_3)$."
   ]
  }
 ],
 "metadata": {
  "kernelspec": {
   "display_name": "Python 3",
   "language": "python",
   "name": "python3"
  },
  "language_info": {
   "codemirror_mode": {
    "name": "ipython",
    "version": 3
   },
   "file_extension": ".py",
   "mimetype": "text/x-python",
   "name": "python",
   "nbconvert_exporter": "python",
   "pygments_lexer": "ipython3",
   "version": "3.7.6"
  }
 },
 "nbformat": 4,
 "nbformat_minor": 2
}
