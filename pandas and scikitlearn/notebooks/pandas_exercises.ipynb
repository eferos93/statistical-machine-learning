{
 "cells": [
  {
   "cell_type": "code",
   "execution_count": 1,
   "metadata": {},
   "outputs": [],
   "source": [
    "%matplotlib inline\n",
    "\n",
    "import os\n",
    "from matplotlib import pyplot as plt\n",
    "import seaborn as sns\n",
    "import pandas as pd\n",
    "import numpy as np\n",
    "\n",
    "\n",
    "reviews = pd.read_csv(os.path.join(\"..\", \"data\", \"ign.csv\"))"
   ]
  },
  {
   "cell_type": "markdown",
   "metadata": {},
   "source": [
    "# Exercises\n",
    "All the following exercises are provided with a potential solution to them. All of the proposed problems can be solved in more than one way, so take the solution provided as a reference that can be improved on.\n",
    "\n",
    "### IGN game reviews dataset\n",
    "\n",
    "\n",
    "1) Print the worst game genre\n",
    "\n",
    "2) How many masterpiece (score_phrase == \"Masterpiece\") game titles were released before April 2001?\n",
    "\n",
    "3) Print the Platform that the editors choose more often (filter out the platforms with less than 100 games released on them)\n",
    "\n",
    "4) Load the dataset and print the names of the unique `platform`s, sorted in descending order by the mean score the received over all games released for them. In case of ties in the mean score, sort by the total number of games released on the platform.\n",
    "\n",
    "5) Find the best awful adventure game (most highly scored with an \"Awful\" score phrase, Adventure genre game). Take into account all variants of Adventure games, i.e. \"Adventure, Platformer', 'Educational, Adventure', etc.\n",
    "\n",
    "6) Plot the mean score of all games released as a function of the year it was released in.\n",
    "\n",
    "7) Plot the probability of a game being an editor's choice as a function of score it was given (bin the score values to make the plot).\n",
    "\n",
    "8) As a follow up of the above exercise, plot the probability of a game being an editor's choice as a function of score but do so for the following platforms: 'PlayStation 4', 'Xbox One' and 'PC'\n",
    "\n",
    "### Open problems (no solution provided)\n",
    "\n",
    "Use the titanic dataset available with seaborn as `sns.load_dataset('titanic')`\n",
    "\n",
    "1) Plot the fraction of male_adults that survived as a function of their age. Divide the data into two groups, the males that were alone and those that weren't.\n",
    "\n",
    "2) Plot the age distributions of the passengers divided into two groups, those that survived and those that didn't. Both plots must be within the same axes.\n",
    "\n",
    "3) Plot the correlations of age, fare paid, and survival.\n",
    "\n",
    "4) What embark_town had the highest survival rate? Was the survival rate correlated with the embark_town?\n",
    "\n",
    "5) Plot the distributions of fares paid according to class and age."
   ]
  },
  {
   "cell_type": "markdown",
   "metadata": {},
   "source": [
    "----\n",
    "\n",
    "# Solutions"
   ]
  },
  {
   "cell_type": "code",
   "execution_count": 37,
   "metadata": {},
   "outputs": [
    {
     "name": "stdout",
     "output_type": "stream",
     "text": [
      "<class 'pandas.core.frame.DataFrame'>\n",
      "RangeIndex: 891 entries, 0 to 890\n",
      "Data columns (total 15 columns):\n",
      " #   Column       Non-Null Count  Dtype   \n",
      "---  ------       --------------  -----   \n",
      " 0   survived     891 non-null    int64   \n",
      " 1   pclass       891 non-null    int64   \n",
      " 2   sex          891 non-null    object  \n",
      " 3   age          714 non-null    float64 \n",
      " 4   sibsp        891 non-null    int64   \n",
      " 5   parch        891 non-null    int64   \n",
      " 6   fare         891 non-null    float64 \n",
      " 7   embarked     889 non-null    object  \n",
      " 8   class        891 non-null    category\n",
      " 9   who          891 non-null    object  \n",
      " 10  adult_male   891 non-null    bool    \n",
      " 11  deck         203 non-null    category\n",
      " 12  embark_town  889 non-null    object  \n",
      " 13  alive        891 non-null    object  \n",
      " 14  alone        891 non-null    bool    \n",
      "dtypes: bool(2), category(2), float64(2), int64(4), object(5)\n",
      "memory usage: 80.6+ KB\n"
     ]
    }
   ],
   "source": [
    "titanic = sns.load_dataset('titanic')\n",
    "titanic.info()"
   ]
  },
  {
   "cell_type": "markdown",
   "metadata": {},
   "source": [
    "#### Plot the fraction of male_adults that survived as a function of their age. Divide the data into two groups, the males that were alone and those that weren't."
   ]
  },
  {
   "cell_type": "code",
   "execution_count": 109,
   "metadata": {},
   "outputs": [
    {
     "name": "stdout",
     "output_type": "stream",
     "text": [
      "537\n",
      "age   survived\n",
      "16.0  0           10\n",
      "      1            1\n",
      "17.0  0            6\n",
      "      1            1\n",
      "18.0  0           12\n",
      "                  ..\n",
      "70.0  0            2\n",
      "70.5  0            1\n",
      "71.0  0            2\n",
      "74.0  0            1\n",
      "80.0  1            1\n",
      "Name: survived, Length: 100, dtype: int64\n"
     ]
    }
   ],
   "source": [
    "adult_male = titanic[titanic.adult_male]\n",
    "n = len(adult_male)\n",
    "print(n)\n",
    "groups = adult_male.groupby(['age']).survived.value_counts()\n",
    "print(groups)\n"
   ]
  },
  {
   "cell_type": "code",
   "execution_count": 45,
   "metadata": {},
   "outputs": [
    {
     "name": "stdout",
     "output_type": "stream",
     "text": [
      "<class 'pandas.core.frame.DataFrame'>\n",
      "RangeIndex: 18625 entries, 0 to 18624\n",
      "Data columns (total 11 columns):\n",
      " #   Column          Non-Null Count  Dtype  \n",
      "---  ------          --------------  -----  \n",
      " 0   Unnamed: 0      18625 non-null  int64  \n",
      " 1   score_phrase    18625 non-null  object \n",
      " 2   title           18625 non-null  object \n",
      " 3   url             18625 non-null  object \n",
      " 4   platform        18625 non-null  object \n",
      " 5   score           18625 non-null  float64\n",
      " 6   genre           18589 non-null  object \n",
      " 7   editors_choice  18625 non-null  object \n",
      " 8   release_year    18625 non-null  int64  \n",
      " 9   release_month   18625 non-null  int64  \n",
      " 10  release_day     18625 non-null  int64  \n",
      "dtypes: float64(1), int64(4), object(6)\n",
      "memory usage: 1.6+ MB\n"
     ]
    },
    {
     "data": {
      "text/plain": [
       "array(['Y', 'N'], dtype=object)"
      ]
     },
     "execution_count": 45,
     "metadata": {},
     "output_type": "execute_result"
    }
   ],
   "source": [
    "reviews.info()"
   ]
  },
  {
   "cell_type": "markdown",
   "metadata": {},
   "source": [
    "Print the worst game genre"
   ]
  },
  {
   "cell_type": "code",
   "execution_count": 49,
   "metadata": {},
   "outputs": [
    {
     "name": "stdout",
     "output_type": "stream",
     "text": [
      "Hunting, Action\n"
     ]
    }
   ],
   "source": [
    "# Ex 1\n",
    "print(reviews.\n",
    "      groupby('genre').\n",
    "      score.mean().\n",
    "      idxmin()\n",
    "     )"
   ]
  },
  {
   "cell_type": "markdown",
   "metadata": {},
   "source": [
    "How many masterpiece (score_phrase == \"Masterpiece\") game titles were released before April 2001?"
   ]
  },
  {
   "cell_type": "code",
   "execution_count": 4,
   "metadata": {},
   "outputs": [
    {
     "name": "stdout",
     "output_type": "stream",
     "text": [
      "171\n"
     ]
    }
   ],
   "source": [
    "# Ex 2\n",
    "date_query = ('release_year < 2001 or '\n",
    "              '(release_year == 2001 and '\n",
    "              ' release_month < 4)')\n",
    "print(\n",
    "    len(\n",
    "        reviews.\n",
    "        query(\"score_phrase=='Masterpiece' and \" + date_query).\n",
    "        title.unique()  # Some titles get released over different platforms\n",
    "    )\n",
    ")"
   ]
  },
  {
   "cell_type": "markdown",
   "metadata": {},
   "source": [
    " Print the Platform that the editors choose more often (filter out the platforms with less than 100 games released on them)"
   ]
  },
  {
   "cell_type": "code",
   "execution_count": 63,
   "metadata": {},
   "outputs": [
    {
     "name": "stdout",
     "output_type": "stream",
     "text": [
      "PlayStation 4\n"
     ]
    },
    {
     "data": {
      "text/html": [
       "<div>\n",
       "<style scoped>\n",
       "    .dataframe tbody tr th:only-of-type {\n",
       "        vertical-align: middle;\n",
       "    }\n",
       "\n",
       "    .dataframe tbody tr th {\n",
       "        vertical-align: top;\n",
       "    }\n",
       "\n",
       "    .dataframe thead th {\n",
       "        text-align: right;\n",
       "    }\n",
       "</style>\n",
       "<table border=\"1\" class=\"dataframe\">\n",
       "  <thead>\n",
       "    <tr style=\"text-align: right;\">\n",
       "      <th></th>\n",
       "      <th>Unnamed: 0</th>\n",
       "      <th>score_phrase</th>\n",
       "      <th>title</th>\n",
       "      <th>url</th>\n",
       "      <th>platform</th>\n",
       "      <th>score</th>\n",
       "      <th>genre</th>\n",
       "      <th>editors_choice</th>\n",
       "      <th>release_year</th>\n",
       "      <th>release_month</th>\n",
       "      <th>release_day</th>\n",
       "    </tr>\n",
       "  </thead>\n",
       "  <tbody>\n",
       "    <tr>\n",
       "      <th>0</th>\n",
       "      <td>0</td>\n",
       "      <td>Amazing</td>\n",
       "      <td>LittleBigPlanet PS Vita</td>\n",
       "      <td>/games/littlebigplanet-vita/vita-98907</td>\n",
       "      <td>PlayStation Vita</td>\n",
       "      <td>9.0</td>\n",
       "      <td>Platformer</td>\n",
       "      <td>Y</td>\n",
       "      <td>2012</td>\n",
       "      <td>9</td>\n",
       "      <td>12</td>\n",
       "    </tr>\n",
       "    <tr>\n",
       "      <th>1</th>\n",
       "      <td>1</td>\n",
       "      <td>Amazing</td>\n",
       "      <td>LittleBigPlanet PS Vita -- Marvel Super Hero E...</td>\n",
       "      <td>/games/littlebigplanet-ps-vita-marvel-super-he...</td>\n",
       "      <td>PlayStation Vita</td>\n",
       "      <td>9.0</td>\n",
       "      <td>Platformer</td>\n",
       "      <td>Y</td>\n",
       "      <td>2012</td>\n",
       "      <td>9</td>\n",
       "      <td>12</td>\n",
       "    </tr>\n",
       "    <tr>\n",
       "      <th>3</th>\n",
       "      <td>3</td>\n",
       "      <td>Great</td>\n",
       "      <td>NHL 13</td>\n",
       "      <td>/games/nhl-13/xbox-360-128182</td>\n",
       "      <td>Xbox 360</td>\n",
       "      <td>8.5</td>\n",
       "      <td>Sports</td>\n",
       "      <td>N</td>\n",
       "      <td>2012</td>\n",
       "      <td>9</td>\n",
       "      <td>11</td>\n",
       "    </tr>\n",
       "    <tr>\n",
       "      <th>4</th>\n",
       "      <td>4</td>\n",
       "      <td>Great</td>\n",
       "      <td>NHL 13</td>\n",
       "      <td>/games/nhl-13/ps3-128181</td>\n",
       "      <td>PlayStation 3</td>\n",
       "      <td>8.5</td>\n",
       "      <td>Sports</td>\n",
       "      <td>N</td>\n",
       "      <td>2012</td>\n",
       "      <td>9</td>\n",
       "      <td>11</td>\n",
       "    </tr>\n",
       "    <tr>\n",
       "      <th>6</th>\n",
       "      <td>6</td>\n",
       "      <td>Awful</td>\n",
       "      <td>Double Dragon: Neon</td>\n",
       "      <td>/games/double-dragon-neon/xbox-360-131320</td>\n",
       "      <td>Xbox 360</td>\n",
       "      <td>3.0</td>\n",
       "      <td>Fighting</td>\n",
       "      <td>N</td>\n",
       "      <td>2012</td>\n",
       "      <td>9</td>\n",
       "      <td>11</td>\n",
       "    </tr>\n",
       "  </tbody>\n",
       "</table>\n",
       "</div>"
      ],
      "text/plain": [
       "   Unnamed: 0 score_phrase                                              title  \\\n",
       "0           0      Amazing                            LittleBigPlanet PS Vita   \n",
       "1           1      Amazing  LittleBigPlanet PS Vita -- Marvel Super Hero E...   \n",
       "3           3        Great                                             NHL 13   \n",
       "4           4        Great                                             NHL 13   \n",
       "6           6        Awful                                Double Dragon: Neon   \n",
       "\n",
       "                                                 url          platform  score  \\\n",
       "0             /games/littlebigplanet-vita/vita-98907  PlayStation Vita    9.0   \n",
       "1  /games/littlebigplanet-ps-vita-marvel-super-he...  PlayStation Vita    9.0   \n",
       "3                      /games/nhl-13/xbox-360-128182          Xbox 360    8.5   \n",
       "4                           /games/nhl-13/ps3-128181     PlayStation 3    8.5   \n",
       "6          /games/double-dragon-neon/xbox-360-131320          Xbox 360    3.0   \n",
       "\n",
       "        genre editors_choice  release_year  release_month  release_day  \n",
       "0  Platformer              Y          2012              9           12  \n",
       "1  Platformer              Y          2012              9           12  \n",
       "3      Sports              N          2012              9           11  \n",
       "4      Sports              N          2012              9           11  \n",
       "6    Fighting              N          2012              9           11  "
      ]
     },
     "execution_count": 63,
     "metadata": {},
     "output_type": "execute_result"
    }
   ],
   "source": [
    "# Ex 3\n",
    "print(reviews.\n",
    "      groupby('platform').\n",
    "      filter(lambda x: len(x) >= 100).  # Here we keep the platforms with 100 games or more\n",
    "      groupby('platform').\n",
    "      score.mean().idxmax()\n",
    "     )"
   ]
  },
  {
   "cell_type": "markdown",
   "metadata": {},
   "source": [
    "Load the dataset and print the names of the unique `platform`s, sorted in descending order by the mean score the received over all games released for them. In case of ties in the mean score, sort by the total number of games released on the platform."
   ]
  },
  {
   "cell_type": "code",
   "execution_count": 66,
   "metadata": {},
   "outputs": [
    {
     "name": "stdout",
     "output_type": "stream",
     "text": [
      "Index(['SteamOS', 'WonderSwan Color', 'Pocket PC', 'Macintosh',\n",
      "       'TurboGrafx-CD', 'Atari 5200', 'Ouya', 'Web Games', 'Game Boy',\n",
      "       'New Nintendo 3DS', 'Super NES', 'iPad', 'PlayStation 4', 'Xbox One',\n",
      "       'Linux', 'Android', 'Wii U', 'PlayStation Vita', 'Dreamcast',\n",
      "       'NeoGeo Pocket Color', 'Nintendo 3DS', 'iPhone', 'Saturn', 'Xbox',\n",
      "       'PlayStation 3', 'Wireless', 'PC', 'Lynx', 'Xbox 360', 'GameCube',\n",
      "       'Sega CD', 'Nintendo 64', 'iPod', 'PlayStation 2', 'Master System',\n",
      "       'Windows Phone', 'PlayStation Portable', 'N-Gage', 'Windows Surface',\n",
      "       'Nintendo 64DD', 'Game Boy Advance', 'NES', 'TurboGrafx-16',\n",
      "       'PlayStation', 'Genesis', 'NeoGeo', 'WonderSwan', 'Commodore 64/128',\n",
      "       'Nintendo DSi', 'Wii', 'Nintendo DS', 'Vectrex', 'Game Boy Color',\n",
      "       'Arcade', 'Atari 2600', 'Sega 32X', 'Game.Com', 'Dreamcast VMU',\n",
      "       'DVD / HD Video Game'],\n",
      "      dtype='object', name='platform')\n"
     ]
    }
   ],
   "source": [
    "# Ex 4\n",
    "print(\n",
    "    reviews.\n",
    "        groupby('platform').\n",
    "        score.agg(['mean', 'count']).\n",
    "        sort_values(by=['mean', 'count'],\n",
    "                    ascending=False).\n",
    "        index\n",
    ")"
   ]
  },
  {
   "cell_type": "markdown",
   "metadata": {},
   "source": [
    "Find the best awful adventure game (most highly scored with an \"Awful\" score phrase, Adventure genre game). Take into account all variants of Adventure games, i.e. \"Adventure, Platformer', 'Educational, Adventure', etc."
   ]
  },
  {
   "cell_type": "code",
   "execution_count": 6,
   "metadata": {},
   "outputs": [
    {
     "name": "stdout",
     "output_type": "stream",
     "text": [
      "5857    Shrek 2\n",
      "Name: title, dtype: object\n"
     ]
    }
   ],
   "source": [
    "# Ex 5\n",
    "# We first get the indexes of all kinds of adventure genre games\n",
    "adventurous = (reviews.genre.\n",
    "                       str.lower().  # To be sure that we will match any case\n",
    "                       str.contains('adventure').  # If genre contains adventure\n",
    "                       fillna(False)  # Set false to games that don't have a genre\n",
    "               )\n",
    "print(reviews[adventurous].\n",
    "      query('score_phrase == \"Awful\"').\n",
    "      sort_values(by='score', ascending=False).\n",
    "      title.\n",
    "      head(1)\n",
    "     )"
   ]
  },
  {
   "cell_type": "markdown",
   "metadata": {},
   "source": [
    " Plot the mean score of all games released as a function of the year it was released in."
   ]
  },
  {
   "cell_type": "code",
   "execution_count": 20,
   "metadata": {},
   "outputs": [
    {
     "data": {
      "text/plain": [
       "<matplotlib.axes._subplots.AxesSubplot at 0x7fcfa6a9cfd0>"
      ]
     },
     "execution_count": 20,
     "metadata": {},
     "output_type": "execute_result"
    },
    {
     "data": {
      "image/png": "[encoded data removed]",
      "text/plain": [
       "<Figure size 432x288 with 1 Axes>"
      ]
     },
     "metadata": {
      "needs_background": "light"
     },
     "output_type": "display_data"
    }
   ],
   "source": [
    "# Ex 6\n",
    "#reviews.groupby('release_year').score.mean().plot(marker='o')\n",
    "reviews.groupby('release_year').agg({'score': np.mean}).plot(marker='o')"
   ]
  },
  {
   "cell_type": "markdown",
   "metadata": {},
   "source": [
    "Plot the probability of a game being an editor's choice as a function of score it was given (bin the score values to make the plot)."
   ]
  },
  {
   "cell_type": "code",
   "execution_count": 23,
   "metadata": {},
   "outputs": [
    {
     "name": "stdout",
     "output_type": "stream",
     "text": [
      "[ 0.   0.5  1.   1.5  2.   2.5  3.   3.5  4.   4.5  5.   5.5  6.   6.5\n",
      "  7.   7.5  8.   8.5  9.   9.5 10. ]\n",
      "[ 9.   9.   8.5 ...  5.5 10.  10. ]\n"
     ]
    },
    {
     "data": {
      "text/plain": [
       "<matplotlib.axes._subplots.AxesSubplot at 0x7fcfa337afd0>"
      ]
     },
     "execution_count": 23,
     "metadata": {},
     "output_type": "execute_result"
    },
    {
     "data": {
      "image/png": "[encoded data removed]",
      "text/plain": [
       "<Figure size 432x288 with 1 Axes>"
      ]
     },
     "metadata": {
      "needs_background": "light"
     },
     "output_type": "display_data"
    }
   ],
   "source": [
    "# Ex 7\n",
    "aprox_scores = np.linspace(0, 10, 21)\n",
    "print(aprox_scores)\n",
    "binned_score = aprox_scores[np.digitize(reviews.score,\n",
    "                                        aprox_scores) - 1]\n",
    "print(binned_score)\n",
    "sub = reviews.assign(score=binned_score,\n",
    "                     editors_choice=reviews.editors_choice == 'Y')\n",
    "sub.groupby(['score']).editors_choice.mean().plot()"
   ]
  },
  {
   "cell_type": "markdown",
   "metadata": {},
   "source": [
    "As a follow up of the above exercise, plot the probability of a game being an editor's choice as a function of score but do so for the following platforms: 'PlayStation 4', 'Xbox One' and 'PC'"
   ]
  },
  {
   "cell_type": "code",
   "execution_count": 9,
   "metadata": {},
   "outputs": [
    {
     "data": {
      "text/plain": [
       "<matplotlib.legend.Legend at 0x7f8966a864a8>"
      ]
     },
     "execution_count": 9,
     "metadata": {},
     "output_type": "execute_result"
    },
    {
     "data": {
      "image/png": "[encoded data removed]",
      "text/plain": [
       "<Figure size 432x288 with 1 Axes>"
      ]
     },
     "metadata": {
      "needs_background": "light"
     },
     "output_type": "display_data"
    }
   ],
   "source": [
    "# Ex 8\n",
    "platforms = ['PlayStation 4', 'Xbox One', 'PC']\n",
    "aprox_scores = np.linspace(0, 10, 51)\n",
    "for platform in platforms:\n",
    "    df = reviews.query('platform == \"{}\"'.format(platform))\n",
    "    binned_score = aprox_scores[np.digitize(df.score,\n",
    "                                            aprox_scores) - 1]\n",
    "    sub = df.assign(score=binned_score,\n",
    "                    editors_choice=reviews.editors_choice == 'Y')\n",
    "    mean = sub.groupby(['score']).editors_choice.mean()\n",
    "    plt.plot(mean.index.get_values(), mean.values, '-o', label=platform)\n",
    "plt.legend()"
   ]
  },
  {
   "cell_type": "code",
   "execution_count": null,
   "metadata": {},
   "outputs": [],
   "source": []
  }
 ],
 "metadata": {
  "kernelspec": {
   "display_name": "Python 3",
   "language": "python",
   "name": "python3"
  },
  "language_info": {
   "codemirror_mode": {
    "name": "ipython",
    "version": 3
   },
   "file_extension": ".py",
   "mimetype": "text/x-python",
   "name": "python",
   "nbconvert_exporter": "python",
   "pygments_lexer": "ipython3",
   "version": "3.6.9"
  }
 },
 "nbformat": 4,
 "nbformat_minor": 4
}
